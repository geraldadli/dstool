{
 "cells": [
  {
   "cell_type": "markdown",
   "id": "d9402b80-8bf5-4958-a9f3-e157a84c29ea",
   "metadata": {},
   "source": [
    "# Data Science Tools and Ecosystem"
   ]
  },
  {
   "cell_type": "markdown",
   "id": "e4da5f3d-ed2f-4061-baa8-9310ca611a27",
   "metadata": {},
   "source": [
    "In this notebook, Data Science Tools and Ecosystem are summarized."
   ]
  },
  {
   "cell_type": "markdown",
   "id": "a4ad819e-af66-4daa-b8b9-f1977ee5bfa2",
   "metadata": {},
   "source": [
    "__Objectives:__\n",
    "* List popular languages for Data Science\n",
    "* List libraries used by Data Scientists\n",
    "* Examples of evaluating arithmetic expressions in Python\n"
   ]
  },
  {
   "cell_type": "markdown",
   "id": "f3595bdd-a652-4377-a3bb-338cb93410a2",
   "metadata": {},
   "source": [
    "Some of the popular languages that Data Scientists use are:\n",
    "1. Python\n",
    "2. SQL\n",
    "3. R"
   ]
  },
  {
   "cell_type": "markdown",
   "id": "93918731-76df-4ed7-8170-abacdae7ed77",
   "metadata": {},
   "source": [
    "Some of the commonly used libraries used by Data Scientists include:\n",
    "1. Numpy\n",
    "2. Pandas\n",
    "3. Matplotlib\n",
    "4. Seaborn\n",
    "5. Scikit-Learn"
   ]
  },
  {
   "cell_type": "markdown",
   "id": "285d4e78-2082-4866-8cc6-c9f70e06f4b4",
   "metadata": {},
   "source": [
    "| Data Science Tools|\n",
    "---------------------\n",
    "| Jupyter |\n",
    "| Pycharm |\n",
    "| RStudio |\n",
    "| Anaconda Navigator |"
   ]
  },
  {
   "cell_type": "markdown",
   "id": "a5cda354-90e1-473d-95dc-d3d9a193977c",
   "metadata": {},
   "source": [
    "### Below are a few examples of evaluating arithmetic expressions in Python\n",
    "* Addition (+) -> 5 + 2 = 7\n",
    "* Subtraction (-) -> 5 - 2 = 3\n",
    "* Multiplication (*) -> 5 * 2 = 10\n",
    "* Division (/) -> 14 / 7 = 2\n",
    "* Exponentiation ( ** ) -> 2**3 = 8\n",
    "* Remainder/Modulo (%) -> 5 % 2 = 1"
   ]
  },
  {
   "cell_type": "code",
   "execution_count": 46,
   "id": "5c5618c3-c031-4cf9-815f-e4580e0e5cda",
   "metadata": {},
   "outputs": [
    {
     "data": {
      "text/plain": [
       "17"
      ]
     },
     "execution_count": 46,
     "metadata": {},
     "output_type": "execute_result"
    }
   ],
   "source": [
    "# This a simple arithmetic expression to mutiply then add integers\n",
    "(3*4)+5"
   ]
  },
  {
   "cell_type": "code",
   "execution_count": 48,
   "id": "cf9eacd9-37c5-4ca7-b230-298ae1f79990",
   "metadata": {},
   "outputs": [
    {
     "data": {
      "text/plain": [
       "3.3333333333333335"
      ]
     },
     "execution_count": 48,
     "metadata": {},
     "output_type": "execute_result"
    }
   ],
   "source": [
    "# This will convert 200 minutes to hours by diving by 60\n",
    "200/60"
   ]
  },
  {
   "cell_type": "markdown",
   "id": "17146ca0-dfef-4f02-ad09-d11015ae3c6d",
   "metadata": {},
   "source": [
    "## Author\n",
    "----------\n",
    "Gerald Adli"
   ]
  }
 ],
 "metadata": {
  "kernelspec": {
   "display_name": "Python 3 (ipykernel)",
   "language": "python",
   "name": "python3"
  },
  "language_info": {
   "codemirror_mode": {
    "name": "ipython",
    "version": 3
   },
   "file_extension": ".py",
   "mimetype": "text/x-python",
   "name": "python",
   "nbconvert_exporter": "python",
   "pygments_lexer": "ipython3",
   "version": "3.12.3"
  }
 },
 "nbformat": 4,
 "nbformat_minor": 5
}
